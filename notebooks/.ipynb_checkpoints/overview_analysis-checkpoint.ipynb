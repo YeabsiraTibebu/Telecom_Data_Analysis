{
 "cells": [
  {
   "cell_type": "code",
   "execution_count": 1,
   "id": "6d08ffb9",
   "metadata": {},
   "outputs": [
    {
     "name": "stdout",
     "output_type": "stream",
     "text": [
      "Requirement already satisfied: sqlalchemy in c:\\users\\hp\\anaconda3\\lib\\site-packages (2.0.25)\n",
      "Requirement already satisfied: typing-extensions>=4.6.0 in c:\\users\\hp\\anaconda3\\lib\\site-packages (from sqlalchemy) (4.9.0)\n",
      "Requirement already satisfied: greenlet!=0.4.17 in c:\\users\\hp\\anaconda3\\lib\\site-packages (from sqlalchemy) (3.0.1)\n",
      "Note: you may need to restart the kernel to use updated packages.\n"
     ]
    }
   ],
   "source": [
    "%pip install sqlalchemy"
   ]
  },
  {
   "cell_type": "code",
   "execution_count": 2,
   "id": "a432a3f6",
   "metadata": {},
   "outputs": [
    {
     "name": "stdout",
     "output_type": "stream",
     "text": [
      "Collecting psycopg2\n",
      "  Downloading psycopg2-2.9.9-cp311-cp311-win_amd64.whl.metadata (4.5 kB)\n",
      "Downloading psycopg2-2.9.9-cp311-cp311-win_amd64.whl (1.2 MB)\n",
      "   ---------------------------------------- 0.0/1.2 MB ? eta -:--:--\n",
      "   ---------------------------------------- 0.0/1.2 MB ? eta -:--:--\n",
      "   - -------------------------------------- 0.0/1.2 MB 325.1 kB/s eta 0:00:04\n",
      "   - -------------------------------------- 0.0/1.2 MB 279.3 kB/s eta 0:00:05\n",
      "   --- ------------------------------------ 0.1/1.2 MB 476.3 kB/s eta 0:00:03\n",
      "   ---- ----------------------------------- 0.1/1.2 MB 514.3 kB/s eta 0:00:03\n",
      "   ------- -------------------------------- 0.2/1.2 MB 860.2 kB/s eta 0:00:02\n",
      "   -------- ------------------------------- 0.3/1.2 MB 827.5 kB/s eta 0:00:02\n",
      "   ---------------- ----------------------- 0.5/1.2 MB 1.3 MB/s eta 0:00:01\n",
      "   ------------------- -------------------- 0.6/1.2 MB 1.4 MB/s eta 0:00:01\n",
      "   ------------------------ --------------- 0.7/1.2 MB 1.6 MB/s eta 0:00:01\n",
      "   -------------------------------- ------- 0.9/1.2 MB 1.8 MB/s eta 0:00:01\n",
      "   ----------------------------------- ---- 1.0/1.2 MB 2.0 MB/s eta 0:00:01\n",
      "   ----------------------------------- ---- 1.0/1.2 MB 2.0 MB/s eta 0:00:01\n",
      "   ------------------------------------ --- 1.1/1.2 MB 1.7 MB/s eta 0:00:01\n",
      "   -------------------------------------- - 1.1/1.2 MB 1.6 MB/s eta 0:00:01\n",
      "   -------------------------------------- - 1.1/1.2 MB 1.6 MB/s eta 0:00:01\n",
      "   ---------------------------------------  1.2/1.2 MB 1.5 MB/s eta 0:00:01\n",
      "   ---------------------------------------- 1.2/1.2 MB 1.4 MB/s eta 0:00:00\n",
      "Installing collected packages: psycopg2\n",
      "Successfully installed psycopg2-2.9.9\n",
      "Note: you may need to restart the kernel to use updated packages.\n"
     ]
    }
   ],
   "source": [
    "%pip install psycopg2"
   ]
  },
  {
   "cell_type": "code",
   "execution_count": 3,
   "id": "f829f64f",
   "metadata": {},
   "outputs": [
    {
     "name": "stdout",
     "output_type": "stream",
     "text": [
      "Requirement already satisfied: python.dotenv in c:\\users\\hp\\anaconda3\\lib\\site-packages (0.21.0)\n",
      "Note: you may need to restart the kernel to use updated packages.\n"
     ]
    }
   ],
   "source": [
    "%pip install python.dotenv"
   ]
  },
  {
   "cell_type": "code",
   "execution_count": 5,
   "id": "64d44b2d",
   "metadata": {},
   "outputs": [],
   "source": [
    "import sys\n",
    "import os\n",
    "import pandas as pd\n",
    "import psycopg2\n",
    "from dotenv import load_dotenv\n",
    "from sqlalchemy import create_engine\n",
    "os.chdir('..')\n",
    "# from db_connection.connection import PostgresConnection\n",
    "# from src.utils import missing_values_table, convert_bytes_to_megabytes"
   ]
  },
  {
   "cell_type": "markdown",
   "id": "22fb5ab4",
   "metadata": {},
   "source": [
    "# Load Environment Variables"
   ]
  },
  {
   "cell_type": "code",
   "execution_count": 7,
   "id": "5f38cbbd",
   "metadata": {},
   "outputs": [
    {
     "ename": "KeyError",
     "evalue": "'PG_HOST'",
     "output_type": "error",
     "traceback": [
      "\u001b[1;31m---------------------------------------------------------------------------\u001b[0m",
      "\u001b[1;31mKeyError\u001b[0m                                  Traceback (most recent call last)",
      "Cell \u001b[1;32mIn[7], line 3\u001b[0m\n\u001b[0;32m      1\u001b[0m load_dotenv()\n\u001b[1;32m----> 3\u001b[0m host \u001b[38;5;241m=\u001b[39m os\u001b[38;5;241m.\u001b[39menviron[\u001b[38;5;124m'\u001b[39m\u001b[38;5;124mPG_HOST\u001b[39m\u001b[38;5;124m'\u001b[39m]\n\u001b[0;32m      4\u001b[0m port \u001b[38;5;241m=\u001b[39m os\u001b[38;5;241m.\u001b[39menviron[\u001b[38;5;124m'\u001b[39m\u001b[38;5;124mPG_PORT\u001b[39m\u001b[38;5;124m'\u001b[39m]\n\u001b[0;32m      5\u001b[0m user \u001b[38;5;241m=\u001b[39m os\u001b[38;5;241m.\u001b[39menviron[\u001b[38;5;124m'\u001b[39m\u001b[38;5;124mPG_USER\u001b[39m\u001b[38;5;124m'\u001b[39m]\n",
      "File \u001b[1;32m<frozen os>:679\u001b[0m, in \u001b[0;36m__getitem__\u001b[1;34m(self, key)\u001b[0m\n",
      "\u001b[1;31mKeyError\u001b[0m: 'PG_HOST'"
     ]
    }
   ],
   "source": [
    "load_dotenv()\n",
    "\n",
    "host = os.environ['PG_HOST']\n",
    "port = os.environ['PG_PORT']\n",
    "user = os.environ['PG_USER']\n",
    "password = os.environ['PG_PASSWORD']\n",
    "database = os.environ['PG_DATABASE']\n",
    "\n"
   ]
  },
  {
   "cell_type": "code",
   "execution_count": null,
   "id": "4425cefe",
   "metadata": {},
   "outputs": [],
   "source": []
  }
 ],
 "metadata": {
  "kernelspec": {
   "display_name": "Python 3 (ipykernel)",
   "language": "python",
   "name": "python3"
  },
  "language_info": {
   "codemirror_mode": {
    "name": "ipython",
    "version": 3
   },
   "file_extension": ".py",
   "mimetype": "text/x-python",
   "name": "python",
   "nbconvert_exporter": "python",
   "pygments_lexer": "ipython3",
   "version": "3.11.7"
  }
 },
 "nbformat": 4,
 "nbformat_minor": 5
}
